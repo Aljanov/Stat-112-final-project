{
 "cells": [
  {
   "cell_type": "code",
   "execution_count": null,
   "id": "6c557471",
   "metadata": {},
   "outputs": [],
   "source": [
    "\n",
    "import pandas as pd\n",
    "\n",
    "# Load the data\n",
    "df = pd.read_excel('/mnt/data/Automobile_sales.xlsx')\n",
    "df.head() # Show first 5 observations\n",
    "    "
   ]
  },
  {
   "cell_type": "code",
   "execution_count": null,
   "id": "16d1a501",
   "metadata": {},
   "outputs": [],
   "source": [
    "\n",
    "# Assuming the first two rows are not part of the data, and actual column names start from the third row\n",
    "df.columns = df.iloc[1]  # Set the second row as the header\n",
    "df = df.drop(df.index[0:2])  # Drop the first two rows which are not part of the data\n",
    "    "
   ]
  },
  {
   "cell_type": "code",
   "execution_count": null,
   "id": "53ed9e3d",
   "metadata": {},
   "outputs": [],
   "source": [
    "\n",
    "# Correct the column names for clarity\n",
    "df.columns = [\n",
    "    'Year', 'Month', 'Brand', 'Model', 'Type', 'Color',\n",
    "    'Transmission', 'Fuel Type', 'Price', 'Kilometers', 'Units Sold'\n",
    "]\n",
    "\n",
    "# Apply string operations to string columns\n",
    "for col in df.select_dtypes(include='object').columns:\n",
    "    df[col] = df[col].astype(str).str.strip().str.title()\n",
    "\n",
    "# Specifically strip spaces and remove quotes from 'Model' and 'Transmission'\n",
    "df['Model'] = df['Model'].str.strip().str.replace('\"', '')\n",
    "df['Transmission'] = df['Transmission'].str.strip().str.replace('\"', '')\n",
    "    "
   ]
  },
  {
   "cell_type": "code",
   "execution_count": null,
   "id": "d01f4d95",
   "metadata": {},
   "outputs": [],
   "source": [
    "\n",
    "# Convert 'Year' to numeric type and handle non-numeric values\n",
    "df['Year'] = pd.to_numeric(df['Year'], errors='coerce')\n",
    "\n",
    "# Convert 'Price', 'Kilometers', and 'Units Sold' to numeric types and handle missing values\n",
    "for col in ['Price', 'Kilometers', 'Units Sold']:\n",
    "    df[col] = pd.to_numeric(df[col], errors='coerce')\n",
    "    df[col].fillna(df[col].mean(), inplace=True)\n",
    "\n",
    "# Replace negative values in 'Units Sold' with their absolute values\n",
    "df['Units Sold'] = df['Units Sold'].apply(lambda x: abs(x) if x < 0 else x)\n",
    "    "
   ]
  },
  {
   "cell_type": "code",
   "execution_count": null,
   "id": "7f437a8a",
   "metadata": {},
   "outputs": [],
   "source": [
    "\n",
    "# Define a function to replace outliers with the mean\n",
    "def replace_outliers_with_mean(series):\n",
    "    Q1 = series.quantile(0.25)\n",
    "    Q3 = series.quantile(0.75)\n",
    "    IQR = Q3 - Q1\n",
    "    lower_bound = Q1 - 1.5 * IQR\n",
    "    upper_bound = Q3 + 1.5 * IQR\n",
    "    mean_value = series.mean()\n",
    "    return series.apply(lambda x: mean_value if x < lower_bound or x > upper_bound else x)\n",
    "\n",
    "# Handle outliers in 'Price' and 'Kilometers'\n",
    "df['Price'] = replace_outliers_with_mean(df['Price'])\n",
    "df['Kilometers'] = replace_outliers_with_mean(df['Kilometers'])\n",
    "    "
   ]
  },
  {
   "cell_type": "code",
   "execution_count": null,
   "id": "d4fa5c8e",
   "metadata": {},
   "outputs": [],
   "source": [
    "\n",
    "# Create a date column from 'Year' and 'Month', if possible\n",
    "df['Date'] = pd.to_datetime(df['Year'].astype(str) + '-' + df['Month'], format='%Y-%b', errors='coerce')\n",
    "\n",
    "# Save the cleaned data to a new Excel file\n",
    "df.to_excel('/mnt/data/Project_data_set.xlsx', index=False)\n",
    "\n",
    "# Display the cleaned data\n",
    "df.head()\n",
    "    "
   ]
  }
 ],
 "metadata": {},
 "nbformat": 4,
 "nbformat_minor": 5
}
