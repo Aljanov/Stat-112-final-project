{
  "metadata": {
    "kernelspec": {
      "name": "python",
      "display_name": "Python (Pyodide)",
      "language": "python"
    },
    "language_info": {
      "codemirror_mode": {
        "name": "python",
        "version": 3
      },
      "file_extension": ".py",
      "mimetype": "text/x-python",
      "name": "python",
      "nbconvert_exporter": "python",
      "pygments_lexer": "ipython3",
      "version": "3.8"
    }
  },
  "nbformat_minor": 5,
  "nbformat": 4,
  "cells": [
    {
      "id": "098fdeb7-8728-4073-a2c4-f9dba0f9e6de",
      "cell_type": "code",
      "source": "import pandas as pd\nimport matplotlib.pyplot as plt\nimport seaborn as sns\n",
      "metadata": {
        "trusted": true
      },
      "outputs": [],
      "execution_count": null
    },
    {
      "id": "ba6ccaa9-979f-47ca-9e91-dea3f7973dd9",
      "cell_type": "code",
      "source": "data = pd.read_excel('C:\\\\Users\\\\ferid\\\\OneDrive\\\\Masaüstü\\\\Project_data_set')",
      "metadata": {
        "trusted": true
      },
      "outputs": [],
      "execution_count": null
    },
    {
      "id": "0989ca1a-704b-47a4-83ef-d50375a633f6",
      "cell_type": "code",
      "source": "# Group the data by 'Fuel Type' and count the number of occurrences of each type\nfuel_type_counts = data['Fuel Type'].value_counts()\n\n# Sort the fuel types by counts so the most used fuel type comes first\nsorted_fuel_types = fuel_type_counts.sort_values(ascending=False)\n\n# Plotting the donut chart\nplt.figure(figsize=(10, 6))\ncolors = sns.color_palette(\"Blues_r\", len(sorted_fuel_types))  # Dark blue to light blue color palette\nplt.pie(sorted_fuel_types, labels=sorted_fuel_types.index, autopct='%1.1f%%', startangle=140, colors=colors)\nplt.gca().add_artist(plt.Circle((0,0),0.70,fc='white'))  # Adding a white circle at the center for donut shape\n\nplt.title('Distribution of Fuel Types')\nplt.show()",
      "metadata": {
        "trusted": true
      },
      "outputs": [],
      "execution_count": null
    },
    {
      "id": "daacd1f8-f1f6-41f6-b944-767361dcdd5c",
      "cell_type": "code",
      "source": "# Find the top five car brands preferred by consumers based on units sold\ntop_brands = data.groupby('Brand')['Units Sold'].sum().nlargest(5).index\n\n# Filter the data to include only these top brands\ntop_brands_data = data[data['Brand'].isin(top_brands)]\n\n# Group total sales by each brand and vehicle type\npopularity_by_type = top_brands_data.groupby(['Brand', 'Type'])['Units Sold'].sum().unstack(fill_value=0)\n\n# Define lighter shades of blue for the bar chart\nlighter_blues = ['#add8e6', '#87cefa', '#4682b4']\n\n# Create the bar chart\nfig, ax = plt.subplots(figsize=(14, 7))\npopularity_by_type.plot(kind='bar', stacked=True, color=lighter_blues, ax=ax)\n\n# Label each bar segment with the total sales figure\nfor c in ax.containers:\n    ax.bar_label(c, label_type='center')\n\nplt.title('Total Sales by Vehicle Type in the Top Five Car Brands (Lighter Blue Shades)')\nplt.xlabel('Brand')\nplt.ylabel('Total Sales Figures')\nplt.legend(title='Vehicle Type')\nplt.show()",
      "metadata": {
        "trusted": true
      },
      "outputs": [],
      "execution_count": null
    },
    {
      "id": "0fd6d71f-079c-43e7-8779-cc0fae15c6e7",
      "cell_type": "code",
      "source": "# Grouping data by brand and summing up the units sold for each brand\nbrand_preference = data.groupby('Brand')['Units Sold'].sum().sort_values(ascending=False)\n\n# Setting colors: top 5 in light blue, bottom 5 in dark blue, others in grey\nnum_brands = len(brand_preference)\ncolors = ['lightblue' if i < 5 else 'darkblue' if i >= num_brands - 5 else 'grey' for i in range(num_brands)]\n\n# Plotting the updated chart\nplt.figure(figsize=(10, 8))\nbars = plt.barh(brand_preference.index, brand_preference, color=colors)\n\n# Adding the text above the bars\nfor bar in bars:\n    plt.text(bar.get_width(), bar.get_y() + bar.get_height()/2,\n             f'{int(bar.get_width())}',\n             va='center', ha='left')\n\nplt.title('Brand Preference Based on Units Sold: Top 5 in Light Blue, Bottom 5 in Dark Blue')\nplt.xlabel('Total Units Sold')\nplt.ylabel('Brand')\nplt.show()",
      "metadata": {
        "trusted": true
      },
      "outputs": [],
      "execution_count": null
    },
    {
      "id": "62175112-7266-4f64-9f9e-761a2bd8f498",
      "cell_type": "code",
      "source": "# Calculate the average price per year\naverage_price_per_year = data.groupby('Year')['Price'].mean().reset_index()\n\n# Plotting\nplt.figure(figsize=(12, 6))\nsns.lineplot(data=average_price_per_year, x='Year', y='Price')\nplt.title('Average Car Price Trend Over the Years')\nplt.xlabel('Year')\nplt.ylabel('Average Price')\nplt.grid(True)\nplt.show()",
      "metadata": {
        "trusted": true
      },
      "outputs": [],
      "execution_count": null
    },
    {
      "id": "c7653111-c6dd-46b9-a5ed-5877983f5c75",
      "cell_type": "code",
      "source": "# Counting the frequency of each car color\ncolor_counts = data['Color'].value_counts()\n\n\n# Adjusting the colors to make them visible, especially for white\ndef adjust_color(color):\n    \"\"\" Adjust the color for better visibility in the plot \"\"\"\n    if color == 'white':\n        return {'color': 'white', 'edgecolor': 'black'}\n    else:\n        return color\n\n\ncolors = color_counts.index.map(lambda x: x.lower())  # Lowercase the color names\nadjusted_colors = [adjust_color(color) for color in colors]\n\n# Plotting the bar graph with adjusted colors and adding numbers on top of the bars\nplt.figure(figsize=(12, 8))\n\nbars = plt.bar(color_counts.index, color_counts.values)\n\n# Applying color adjustments and adding text\nfor bar, color in zip(bars, adjusted_colors):\n    if isinstance(color, dict):\n        bar.set_color(color['color'])\n        bar.set_edgecolor(color['edgecolor'])\n    else:\n        bar.set_color(color)\n\n    height = bar.get_height()\n    plt.text(bar.get_x() + bar.get_width() / 2.0, height, int(height), ha='center', va='bottom')\n\nplt.title('Frequency of Car Colors')\nplt.xlabel('Color')\nplt.ylabel('Frequency')\nplt.xticks(rotation=45)\nplt.grid(True)\nplt.tight_layout()\n\nplt.show()",
      "metadata": {
        "trusted": true
      },
      "outputs": [],
      "execution_count": null
    }
  ]
}